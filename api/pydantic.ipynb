{
 "cells": [
  {
   "cell_type": "code",
   "execution_count": null,
   "id": "07594843",
   "metadata": {},
   "outputs": [
    {
     "data": {
      "text/plain": [
       "User(id=1234, name='kim', age=20, is_active=True)"
      ]
     },
     "execution_count": 1,
     "metadata": {},
     "output_type": "execute_result"
    }
   ],
   "source": [
    "# https://www.notion.so/Pydantic-254179cfab948099a3e4e664195c3c2d\n",
    "\n",
    "from pydantic import BaseModel\n",
    "\n",
    "# pydantic이 설정한 형태로 형변환을 자동으로 해줌\n",
    "# (불가능한 변환은 안됨 : '123' => 123 ok / '홍길동' => 홍길동 can't)\n",
    "class User(BaseModel):\n",
    "    id: int\n",
    "    name: str\n",
    "    age: int\n",
    "    is_active: bool = True   # 기본값 설정\n",
    "    \n",
    "user1 = User(id='1234', name='kim', age=20) # id를 문자열로 넣어도 int로 변환\n",
    "user1"
   ]
  },
  {
   "cell_type": "code",
   "execution_count": null,
   "id": "aacf332f",
   "metadata": {},
   "outputs": [
    {
     "name": "stderr",
     "output_type": "stream",
     "text": [
      "C:\\Users\\user\\AppData\\Local\\Temp\\ipykernel_34632\\34653887.py:1: PydanticDeprecatedSince20: The `json` method is deprecated; use `model_dump_json` instead. Deprecated in Pydantic V2.0 to be removed in V3.0. See Pydantic V2 Migration Guide at https://errors.pydantic.dev/2.11/migration/\n",
      "  user1.json()\n"
     ]
    },
    {
     "data": {
      "text/plain": [
       "'{\"id\":1234,\"name\":\"kim\",\"age\":20,\"is_active\":true}'"
      ]
     },
     "execution_count": 2,
     "metadata": {},
     "output_type": "execute_result"
    }
   ],
   "source": [
    "user1.json() # ''으로 문자열(키값)을 쓰는 경우 json 변환에 이슈 있을 수 있으니 주의"
   ]
  },
  {
   "cell_type": "code",
   "execution_count": 3,
   "id": "bfc01f3e",
   "metadata": {},
   "outputs": [
    {
     "name": "stdout",
     "output_type": "stream",
     "text": [
      "<class '__main__.User'>\n"
     ]
    }
   ],
   "source": [
    "print(type(user1))"
   ]
  }
 ],
 "metadata": {
  "kernelspec": {
   "display_name": "deep-learning",
   "language": "python",
   "name": "python3"
  },
  "language_info": {
   "codemirror_mode": {
    "name": "ipython",
    "version": 3
   },
   "file_extension": ".py",
   "mimetype": "text/x-python",
   "name": "python",
   "nbconvert_exporter": "python",
   "pygments_lexer": "ipython3",
   "version": "3.11.13"
  }
 },
 "nbformat": 4,
 "nbformat_minor": 5
}
