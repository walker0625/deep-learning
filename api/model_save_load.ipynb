{
 "cells": [
  {
   "cell_type": "markdown",
   "id": "1e90d24a",
   "metadata": {},
   "source": [
    "# Model Save & Load"
   ]
  },
  {
   "cell_type": "markdown",
   "id": "b8ddd99a",
   "metadata": {},
   "source": [
    "## 1. Model 저장 및 불러오기"
   ]
  },
  {
   "cell_type": "code",
   "execution_count": 6,
   "id": "18fb4ce3",
   "metadata": {},
   "outputs": [],
   "source": [
    "import torch\n",
    "import torch.nn as nn"
   ]
  },
  {
   "cell_type": "markdown",
   "id": "db34b5a1",
   "metadata": {},
   "source": [
    "### 1-1 가중치만 저장(주로 쓰임)"
   ]
  },
  {
   "cell_type": "code",
   "execution_count": 7,
   "id": "7ed9ccd4",
   "metadata": {},
   "outputs": [],
   "source": [
    "# 가중치만 저장\n",
    "class SimpleModel(nn.Module):\n",
    "    def __init__(self):\n",
    "        super(SimpleModel, self).__init__()\n",
    "        self.fc = nn.Linear(10,2)\n",
    "\n",
    "    def forward(self,x):\n",
    "        return self.fc(x)\n",
    "\n",
    "# 모델 저장시 이름 유니크해야 추후 혼동 x\n",
    "model = SimpleModel()\n",
    "torch.save(model.state_dict(), 'model/model_0818_weight.pth')"
   ]
  },
  {
   "cell_type": "code",
   "execution_count": 8,
   "id": "2851f058",
   "metadata": {},
   "outputs": [
    {
     "data": {
      "text/plain": [
       "<All keys matched successfully>"
      ]
     },
     "execution_count": 8,
     "metadata": {},
     "output_type": "execute_result"
    }
   ],
   "source": [
    "# 모델 로드\n",
    "# 가중치만 저장한 경우, 저장할 때의 모델과 같아야 불러왔을 때도 문제가 없음(가중치, 분류기 class수 등)\n",
    "class SimpleModel(nn.Module):\n",
    "    def __init__(self):\n",
    "        super(SimpleModel, self).__init__()\n",
    "        self.fc = nn.Linear(10,2)\n",
    "\n",
    "    def forward(self,x):\n",
    "        return self.fc(x)\n",
    "\n",
    "model = SimpleModel()\n",
    "model.load_state_dict(torch.load('model/model_0818_weight.pth'))"
   ]
  },
  {
   "cell_type": "markdown",
   "id": "c75fc2d8",
   "metadata": {},
   "source": [
    "### 1-2 가중치 + 모델 저장(거의 쓰지 않음 참고용)"
   ]
  },
  {
   "cell_type": "code",
   "execution_count": 9,
   "id": "b1391609",
   "metadata": {},
   "outputs": [],
   "source": [
    "# 모델 저장\n",
    "class SimpleModel(nn.Module):\n",
    "    def __init__(self):\n",
    "        super(SimpleModel, self).__init__()\n",
    "        self.fc = nn.Linear(10,2)\n",
    "\n",
    "    def forward(self,x):\n",
    "        return self.fc(x)\n",
    "\n",
    "model = SimpleModel()\n",
    "torch.save(model, 'model/model_0818.pth')"
   ]
  },
  {
   "cell_type": "code",
   "execution_count": 10,
   "id": "1cfe9124",
   "metadata": {},
   "outputs": [],
   "source": [
    "# 모델 로드(기존엔 class 필요 없었는데 버전 변경되면서 필요한 것으로 변경됨)\n",
    "class SimpleModel(nn.Module):\n",
    "    def __init__(self):\n",
    "        super(SimpleModel, self).__init__()\n",
    "        self.fc = nn.Linear(10,2)\n",
    "\n",
    "    def forward(self,x):\n",
    "        return self.fc(x)\n",
    "\n",
    "model = SimpleModel()\n",
    "model = torch.load(\"model/model_0818.pth\", weights_only=False)"
   ]
  }
 ],
 "metadata": {
  "kernelspec": {
   "display_name": "deep-learning",
   "language": "python",
   "name": "python3"
  },
  "language_info": {
   "codemirror_mode": {
    "name": "ipython",
    "version": 3
   },
   "file_extension": ".py",
   "mimetype": "text/x-python",
   "name": "python",
   "nbconvert_exporter": "python",
   "pygments_lexer": "ipython3",
   "version": "3.11.13"
  }
 },
 "nbformat": 4,
 "nbformat_minor": 5
}
