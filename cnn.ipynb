{
 "cells": [
  {
   "cell_type": "markdown",
   "id": "97a30052",
   "metadata": {},
   "source": [
    "# CNN\n",
    "\n",
    "### Data가 상대적으로 적은 경우 cnn / 방대할 경우 transformer"
   ]
  },
  {
   "cell_type": "code",
   "execution_count": 17,
   "id": "ac0d0c8d",
   "metadata": {},
   "outputs": [],
   "source": [
    "import torch\n",
    "import torch.nn as nn\n",
    "import torch.nn.functional as F\n",
    "from torch.optim import Adam\n",
    "from torchvision import datasets\n",
    "import torchvision.transforms as transforms\n",
    "from tensorboardX import SummaryWriter\n",
    "#import global_device"
   ]
  },
  {
   "cell_type": "code",
   "execution_count": 18,
   "id": "9db7d5d8",
   "metadata": {},
   "outputs": [],
   "source": [
    "data_transform = transforms.Compose(\n",
    "    [\n",
    "        transforms.ToTensor(),\n",
    "        transforms.Resize(32), # 32*32\n",
    "        transforms.Normalize((0.5), (1.0)) # 평균 0.5 / 표준편차 1\n",
    "    ]\n",
    ")\n",
    "\n",
    "train_data = datasets.MNIST(\n",
    "    root='./',\n",
    "    train=True,\n",
    "    download=True,\n",
    "    transform=data_transform # 전처리\n",
    ")\n",
    "\n",
    "test_data = datasets.MNIST(\n",
    "    root='./',\n",
    "    train=False,\n",
    "    download=True,\n",
    "    transform=data_transform # 전처리\n",
    ") "
   ]
  },
  {
   "cell_type": "code",
   "execution_count": 19,
   "id": "dbc0c9d6",
   "metadata": {},
   "outputs": [
    {
     "data": {
      "text/plain": [
       "torch.Size([60000, 28, 28])"
      ]
     },
     "execution_count": 19,
     "metadata": {},
     "output_type": "execute_result"
    }
   ],
   "source": [
    "train_data.data.shape # data_loader로 불러오면 data_transform 설정으로 바뀜"
   ]
  },
  {
   "cell_type": "code",
   "execution_count": 20,
   "id": "47561583",
   "metadata": {},
   "outputs": [
    {
     "data": {
      "text/plain": [
       "torch.Size([60000, 28, 28])"
      ]
     },
     "execution_count": 20,
     "metadata": {},
     "output_type": "execute_result"
    }
   ],
   "source": [
    "from torch.utils.data import DataLoader\n",
    "\n",
    "train_loader = DataLoader(train_data, batch_size=32, shuffle=True) \n",
    "test_loader = DataLoader(test_data, batch_size=32) \n",
    "train_loader.dataset.data.shape"
   ]
  },
  {
   "cell_type": "code",
   "execution_count": 21,
   "id": "157715d1",
   "metadata": {},
   "outputs": [
    {
     "name": "stdout",
     "output_type": "stream",
     "text": [
      "torch.Size([32, 1, 32, 32])\n"
     ]
    }
   ],
   "source": [
    "data,label = next(iter(train_loader))\n",
    "print(data.shape) # 32로 사이즈 변화"
   ]
  },
  {
   "cell_type": "code",
   "execution_count": 22,
   "id": "7159ff48",
   "metadata": {},
   "outputs": [
    {
     "data": {
      "text/plain": [
       "Lenet(\n",
       "  (conv1): Conv2d(1, 6, kernel_size=(5, 5), stride=(1, 1))\n",
       "  (conv2): Conv2d(6, 16, kernel_size=(5, 5), stride=(1, 1))\n",
       "  (conv3): Conv2d(16, 120, kernel_size=(5, 5), stride=(1, 1))\n",
       "  (fc1): Linear(in_features=120, out_features=84, bias=True)\n",
       "  (fc2): Linear(in_features=84, out_features=10, bias=True)\n",
       ")"
      ]
     },
     "execution_count": 22,
     "metadata": {},
     "output_type": "execute_result"
    }
   ],
   "source": [
    "class Lenet(nn.Module):\n",
    "    \n",
    "    def __init__(self):    \n",
    "        super(Lenet, self).__init__() # 부모도 생성자에서 초기화\n",
    "        self.conv1 = nn.Conv2d(\n",
    "                                in_channels=1, \n",
    "                                out_channels=6, # 차원(장수)\n",
    "                                kernel_size=5,  # 필터 사이즈\n",
    "                                stride=1 \n",
    "                            )\n",
    "        self.conv2 = nn.Conv2d(in_channels=6, out_channels=16, kernel_size=5, stride=1) \n",
    "        self.conv3 = nn.Conv2d(in_channels=16, out_channels=120, kernel_size=5, stride=1) \n",
    "        \n",
    "        self.fc1 = nn.Linear(in_features=120, out_features=84) # in_feature 계산해서 설정\n",
    "        self.fc2 = nn.Linear(in_features=84, out_features=10) # out_feature 필요한 class로 설정\n",
    "    \n",
    "    def forward(self, x): # PyTorch의 예약어 함수        \n",
    "        x = self.conv1(x) # 6, 28, 28   \n",
    "        x = F.tanh(x) # 활성화 함수 \n",
    "        x = F.max_pool2d(x, 2, 2) # 2*2로 pooling(mask) 진행 => 6, 14, 14\n",
    "        \n",
    "        x = self.conv2(x) # 16, 10, 10\n",
    "        x = F.tanh(x)\n",
    "        x = F.max_pool2d(x, 2, 2) # 16, 5, 5\n",
    "        \n",
    "        x = self.conv3(x)\n",
    "        x = F.tanh(x)\n",
    "        x = x.view(-1, 120)\n",
    "        \n",
    "        x = self.fc1(x)\n",
    "        x = F.tanh(x)\n",
    "        \n",
    "        x = self.fc2(x)\n",
    "        x = F.tanh(x)\n",
    "        \n",
    "        return x # 10개의 값 \n",
    "        \n",
    "model = Lenet()        \n",
    "model"
   ]
  },
  {
   "cell_type": "code",
   "execution_count": 23,
   "id": "34c033c5",
   "metadata": {},
   "outputs": [
    {
     "name": "stdout",
     "output_type": "stream",
     "text": [
      "=================================================================\n",
      "Layer (type:depth-idx)                   Param #\n",
      "=================================================================\n",
      "├─Conv2d: 1-1                            156\n",
      "├─Conv2d: 1-2                            2,416\n",
      "├─Conv2d: 1-3                            48,120\n",
      "├─Linear: 1-4                            10,164\n",
      "├─Linear: 1-5                            850\n",
      "=================================================================\n",
      "Total params: 61,706\n",
      "Trainable params: 61,706\n",
      "Non-trainable params: 0\n",
      "=================================================================\n"
     ]
    },
    {
     "data": {
      "text/plain": [
       "=================================================================\n",
       "Layer (type:depth-idx)                   Param #\n",
       "=================================================================\n",
       "├─Conv2d: 1-1                            156\n",
       "├─Conv2d: 1-2                            2,416\n",
       "├─Conv2d: 1-3                            48,120\n",
       "├─Linear: 1-4                            10,164\n",
       "├─Linear: 1-5                            850\n",
       "=================================================================\n",
       "Total params: 61,706\n",
       "Trainable params: 61,706\n",
       "Non-trainable params: 0\n",
       "================================================================="
      ]
     },
     "execution_count": 23,
     "metadata": {},
     "output_type": "execute_result"
    }
   ],
   "source": [
    "from torchsummary import summary\n",
    "\n",
    "summary(model, input_size=(1, 32, 32)) # 보고서에 total 학습 parameter 기재(1장 기준)"
   ]
  },
  {
   "cell_type": "code",
   "execution_count": 24,
   "id": "19088d2a",
   "metadata": {},
   "outputs": [
    {
     "name": "stdout",
     "output_type": "stream",
     "text": [
      "epoch: 1, loss: 0.8461909294128418\n",
      "epoch: 2, loss: 0.8857754468917847\n",
      "epoch: 3, loss: 0.7976832389831543\n",
      "epoch: 4, loss: 0.799486517906189\n",
      "epoch: 5, loss: 0.7986149787902832\n",
      "epoch: 6, loss: 0.8032175302505493\n",
      "epoch: 7, loss: 0.809123694896698\n",
      "epoch: 8, loss: 0.8059000372886658\n",
      "epoch: 9, loss: 0.8732156157493591\n",
      "epoch: 10, loss: 0.8033444285392761\n"
     ]
    }
   ],
   "source": [
    "custom_lr = 1e-3\n",
    "epochs = 10\n",
    "\n",
    "optim = Adam(model.parameters(), lr = custom_lr) # 최적화 함수\n",
    "criterion = nn.CrossEntropyLoss() # 손실 함수\n",
    "\n",
    "device = 'cuda' if torch.cuda.is_available else 'cpu'\n",
    "model.to(device)\n",
    "\n",
    "writer = SummaryWriter()\n",
    "\n",
    "step = 0\n",
    "\n",
    "for epoch in range(epochs):\n",
    "    for data, label in train_loader:\n",
    "        optim.zero_grad()\n",
    "        pred = model(data.to(device)) # 32, 1, 32, 32\n",
    "        loss = criterion(pred, label.to(device))\n",
    "        writer.add_scalar('Loss/train', loss, step)\n",
    "        step += 1\n",
    "        \n",
    "        loss.backward()\n",
    "        optim.step()\n",
    "        \n",
    "    print(f'epoch: {epoch + 1}, loss: {loss.item()}')"
   ]
  },
  {
   "cell_type": "markdown",
   "id": "8fbc4081",
   "metadata": {},
   "source": [
    "## 모델 평가"
   ]
  },
  {
   "cell_type": "code",
   "execution_count": 25,
   "id": "a46eebac",
   "metadata": {},
   "outputs": [
    {
     "name": "stdout",
     "output_type": "stream",
     "text": [
      "정확도 : 0.9878\n",
      "torch.Size([16, 10])\n"
     ]
    }
   ],
   "source": [
    "model.eval() # 테스트 모드(추론)로 model을 전환(drop out등 값이 변화될 수 있는 것 제거)\n",
    "\n",
    "with torch.no_grad(): # 자동 미분 종료\n",
    "    \n",
    "    total_corr = 0\n",
    "    \n",
    "    for images, labels in test_loader:\n",
    "        images = images.to(device) # model과 input 일치화\n",
    "        labels = labels.to(device)\n",
    "        preds = model(images)\n",
    "        _, pred = torch.max(preds.data, 1) # 적합도 배열, 1위 예측 배열\n",
    "        \n",
    "        total_corr = total_corr + (pred == labels).sum().item()\n",
    "\n",
    "print(f'정확도 : {total_corr/len(test_data.targets)}')\n",
    "print(preds.data.shape) # torch.Size([16, 10]) 32개씩 돌고 남은 16개\n",
    "\n",
    "# 결과 확인 후 \n",
    "# 1. Data 변경 2. Model 변경 3. Data 자체의 오류(ex: 9의 모양 확인)b"
   ]
  },
  {
   "cell_type": "markdown",
   "id": "ea5007eb",
   "metadata": {},
   "source": [
    "## 모델 사용"
   ]
  },
  {
   "cell_type": "code",
   "execution_count": 51,
   "id": "ced82de6",
   "metadata": {},
   "outputs": [
    {
     "name": "stdout",
     "output_type": "stream",
     "text": [
      "torch.Size([1, 32, 32])\n"
     ]
    },
    {
     "data": {
      "text/plain": [
       "tensor([[-1.0000, -1.0000, -1.0000,  0.9894, -1.0000, -0.9992, -1.0000, -1.0000,\n",
       "          0.1001, -0.9909]], device='cuda:0', grad_fn=<TanhBackward0>)"
      ]
     },
     "execution_count": 51,
     "metadata": {},
     "output_type": "execute_result"
    }
   ],
   "source": [
    "from PIL import Image\n",
    "import numpy as np\n",
    "\n",
    "img = Image.open('data/5.jpg')\n",
    "img = img.convert('L')  # grayscale로 변환\n",
    "img = img.resize((32, 32))  # 크기 조절\n",
    "img = np.array(img)  # numpy 배열로 변환\n",
    "img = img.reshape(1, 32, 32)  # 차원 조절\n",
    "\n",
    "img = torch.from_numpy(img).float()  # numpy 배열을 torch tensor로 변환\n",
    "print(img.size())\n",
    "\n",
    "model(img.to(device)) # torch.Size([1, 32, 32])\n",
    "\n",
    "# preds = \n",
    "# _, pred = torch.max(preds.data, 1)\n",
    "\n",
    "# print(torch.mode(pred).values.item())"
   ]
  },
  {
   "cell_type": "code",
   "execution_count": 52,
   "id": "80d61645",
   "metadata": {},
   "outputs": [
    {
     "data": {
      "text/plain": [
       "(579, 576, 3)"
      ]
     },
     "execution_count": 52,
     "metadata": {},
     "output_type": "execute_result"
    }
   ],
   "source": [
    "from PIL import Image\n",
    "import numpy as np\n",
    "\n",
    "img = Image.open('data/1.jpg')\n",
    "img_array = np.array(img)\n",
    "img_array.shape"
   ]
  },
  {
   "cell_type": "code",
   "execution_count": 53,
   "id": "f8ed9b4f",
   "metadata": {},
   "outputs": [
    {
     "data": {
      "text/plain": [
       "torch.Size([1, 32, 32])"
      ]
     },
     "execution_count": 53,
     "metadata": {},
     "output_type": "execute_result"
    }
   ],
   "source": [
    "infer_transform = transforms.Compose( # 전처리\n",
    "    [\n",
    "        transforms.ToTensor(),\n",
    "        transforms.Grayscale(), # 흑백으로 변경(1차원 변경)\n",
    "        transforms.Resize(32), # 32*32\n",
    "        transforms.Normalize((0.5), (1.0)) # 학습 데이터도 정규화 했으므로 입력값도 정규화\n",
    "    ]\n",
    ")\n",
    "\n",
    "infer_img = infer_transform(img)\n",
    "infer_img.size()"
   ]
  },
  {
   "cell_type": "code",
   "execution_count": 54,
   "id": "9ae91796",
   "metadata": {},
   "outputs": [
    {
     "data": {
      "text/plain": [
       "tensor([[-0.9551,  1.0000, -1.0000, -1.0000, -0.9999,  0.9994,  0.6047, -0.0615,\n",
       "         -1.0000, -1.0000]], device='cuda:0', grad_fn=<TanhBackward0>)"
      ]
     },
     "execution_count": 54,
     "metadata": {},
     "output_type": "execute_result"
    }
   ],
   "source": [
    "model(infer_img.to(device))"
   ]
  }
 ],
 "metadata": {
  "kernelspec": {
   "display_name": "deep-learning",
   "language": "python",
   "name": "python3"
  },
  "language_info": {
   "codemirror_mode": {
    "name": "ipython",
    "version": 3
   },
   "file_extension": ".py",
   "mimetype": "text/x-python",
   "name": "python",
   "nbconvert_exporter": "python",
   "pygments_lexer": "ipython3",
   "version": "3.11.13"
  }
 },
 "nbformat": 4,
 "nbformat_minor": 5
}
