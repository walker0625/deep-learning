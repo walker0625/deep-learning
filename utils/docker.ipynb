{
 "cells": [
  {
   "cell_type": "markdown",
   "id": "6ccf831f",
   "metadata": {},
   "source": [
    "# 도커\n",
    "##### docker 전 방식\n",
    "##### uv pip freeze > requirements.txt : 원천 의존성 파일화(원래 서버)\n",
    "##### pip install -r requirements.txt : 파일화한 의존성 설치(새로운 서버)"
   ]
  },
  {
   "cell_type": "markdown",
   "id": "e3214136",
   "metadata": {},
   "source": []
  }
 ],
 "metadata": {
  "kernelspec": {
   "display_name": "deep-learning",
   "language": "python",
   "name": "python3"
  },
  "language_info": {
   "codemirror_mode": {
    "name": "ipython",
    "version": 3
   },
   "file_extension": ".py",
   "mimetype": "text/x-python",
   "name": "python",
   "nbconvert_exporter": "python",
   "pygments_lexer": "ipython3",
   "version": "3.11.13"
  }
 },
 "nbformat": 4,
 "nbformat_minor": 5
}
