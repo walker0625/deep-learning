{
 "cells": [
  {
   "cell_type": "markdown",
   "id": "c35a8b6d",
   "metadata": {},
   "source": [
    "# 이미지 수집기"
   ]
  },
  {
   "cell_type": "code",
   "execution_count": 16,
   "id": "ddae590d",
   "metadata": {},
   "outputs": [
    {
     "name": "stdout",
     "output_type": "stream",
     "text": [
      "fatal: destination path 'bing_image_downloader' already exists and is not an empty directory.\n"
     ]
    }
   ],
   "source": [
    "!git clone https://github.com/ndb796/bing_image_downloader"
   ]
  },
  {
   "cell_type": "code",
   "execution_count": 17,
   "id": "282a39b7",
   "metadata": {},
   "outputs": [],
   "source": [
    "import os\n",
    "import shutil\n",
    "from bing_image_downloader.bing_image_downloader import downloader"
   ]
  },
  {
   "cell_type": "code",
   "execution_count": 18,
   "id": "4fb67eb4",
   "metadata": {},
   "outputs": [],
   "source": [
    "# 생성과 분리 한번에 하는 함수\n",
    "\n",
    "def dataset_download_split(query_input, total_count, train_rate):   \n",
    "        \n",
    "    # jpg, jpeg, png만 가능하도록 처리해야 함(webp 주의)    \n",
    "    downloader.download(query=query_input, limit=total_count, output_dir='./', \n",
    "                        adult_filter_off=True, force_replace=False, timeout=60)\n",
    "    \n",
    "    directory_dict = {\n",
    "        'train' : '../dataset/train/',\n",
    "        'test' : '../dataset/test/',\n",
    "    }\n",
    "    \n",
    "    for dir in directory_dict.values():  \n",
    "        if not os.path.isdir(dir + query_input):\n",
    "            os.makedirs(dir + query_input)\n",
    "\n",
    "    train_cnt = int(total_count * train_rate)\n",
    "    cnt = 0\n",
    "\n",
    "    for file_name in os.listdir(query_input):\n",
    "        if cnt < train_cnt:\n",
    "            shutil.move(query_input + \"/\" + file_name, directory_dict['train'] + query_input+'/' + file_name )\n",
    "        else:\n",
    "            shutil.move(query_input + \"/\" + file_name, directory_dict['test'] + query_input + '/' + file_name )\n",
    "        \n",
    "        cnt += 1\n",
    "\n",
    "    shutil.rmtree(query_input)"
   ]
  },
  {
   "cell_type": "code",
   "execution_count": 21,
   "id": "43ef64b1",
   "metadata": {},
   "outputs": [
    {
     "name": "stdout",
     "output_type": "stream",
     "text": [
      "[Info] Indexing page: 1\n",
      "[Info] Indexed 10 Images on Page 1.\n",
      "===============================================\n",
      "#1 이미지 다운로드 (https://image5jvqbd.fmkorea.com/files/attach/new/20201021/486616/3149976093/3157076344/5f13e71a67a331fcaf5797ee345cd2af.jpg)\n",
      "#1 파일 다운로드가 완료되었습니다.\n",
      "#2 이미지 다운로드 (https://img.huffingtonpost.com/asset/5d7076a62500008d00048cda.jpeg?ops=1200_630)\n",
      "#2 파일 다운로드가 완료되었습니다.\n",
      "#3 이미지 다운로드 (https://cdn.pixabay.com/photo/2020/06/17/06/44/nutria-5308432_1280.jpg)\n",
      "#3 파일 다운로드가 완료되었습니다.\n",
      "#4 이미지 다운로드 (https://cdn.pixabay.com/photo/2020/04/18/09/14/nutria-5058372_1280.jpg)\n",
      "#4 파일 다운로드가 완료되었습니다.\n",
      "#5 이미지 다운로드 (https://thumbnews.nateimg.co.kr/view610/news.nateimg.co.kr/orgImg/kh/2023/05/08/news-p.v1.20230508.283114e8c40140be920fa47f36a8f565_P1.jpg)\n",
      "#5 파일 다운로드가 완료되었습니다.\n",
      "#6 이미지 다운로드 (https://png.pngtree.com/background/20230613/original/pngtree-beaver-with-an-oversized-head-sits-in-water-picture-image_3426200.jpg)\n",
      "#6 파일 다운로드가 완료되었습니다.\n",
      "#7 이미지 다운로드 (https://cdn.pixabay.com/photo/2020/02/07/18/14/nutria-4827974_960_720.jpg)\n",
      "#7 파일 다운로드가 완료되었습니다.\n",
      "#8 이미지 다운로드 (https://png.pngtree.com/background/20230613/original/pngtree-an-image-of-a-beaver-standing-in-a-puddle-of-water-picture-image_3424132.jpg)\n",
      "#8 파일 다운로드가 완료되었습니다.\n",
      "#9 이미지 다운로드 (https://img7.yna.co.kr/photo/oldyna/YH/2007/07/16/PYH2007071600420005200_P4.jpg)\n",
      "[Info] Issue getting: https://img7.yna.co.kr/photo/oldyna/YH/2007/07/16/PYH2007071600420005200_P4.jpg\n",
      "[Error] <urlopen error [SSL: UNSAFE_LEGACY_RENEGOTIATION_DISABLED] unsafe legacy renegotiation disabled (_ssl.c:1016)>\n",
      "#9 이미지 다운로드 (https://cdn.pixabay.com/photo/2016/05/11/20/29/nutria-1386451_1280.jpg)\n",
      "#9 파일 다운로드가 완료되었습니다.\n",
      "[Info] Done. Downloaded 9 images.\n",
      "[Info] Indexing page: 2\n",
      "[Info] Indexed 35 Images on Page 2.\n",
      "===============================================\n",
      "#10 이미지 다운로드 (https://image5jvqbd.fmkorea.com/files/attach/new/20201021/486616/3149976093/3157076344/5f13e71a67a331fcaf5797ee345cd2af.jpg)\n",
      "#10 파일 다운로드가 완료되었습니다.\n",
      "===============================================\n",
      "[Info] Done. Downloaded 10 images.\n"
     ]
    }
   ],
   "source": [
    "dataset_download_split(query_input = '누트리아', total_count = 10, train_rate = 0.8)"
   ]
  },
  {
   "cell_type": "code",
   "execution_count": null,
   "id": "665b8791",
   "metadata": {},
   "outputs": [],
   "source": [
    "# 생성 -> 이동 -> 삭제(수업 version)\n",
    "\n",
    "# directory_list = [\n",
    "#         './dataset/train/',\n",
    "#         './dataset/test/',\n",
    "#     ]\n",
    "\n",
    "# downloader.download(query='카피바라', limit=50, output_dir='./',adult_filter_off=True,force_replace=False,timeout=60)\n",
    "\n",
    "# def dataset_split(query, train_cnt):   \n",
    "#     for dir in directory_list:  \n",
    "#         if not os.path.isdir(dir+query):\n",
    "#             os.makedirs(dir+query)\n",
    "\n",
    "#     cnt = 0\n",
    "\n",
    "#     for file_name in os.listdir(query):\n",
    "#         if cnt < train_cnt:\n",
    "#             shutil.move(query+\"/\"+file_name, './dataset/train/'+query+'/'+file_name )\n",
    "#         else:\n",
    "#             shutil.move(query+\"/\"+file_name, './dataset/test/'+query+'/'+file_name )\n",
    "        \n",
    "#         cnt += 1\n",
    "\n",
    "#     shutil.rmtree(query)\n",
    "\n",
    "# dataset_split('카피바라',40)"
   ]
  }
 ],
 "metadata": {
  "kernelspec": {
   "display_name": "deep-learning",
   "language": "python",
   "name": "python3"
  },
  "language_info": {
   "codemirror_mode": {
    "name": "ipython",
    "version": 3
   },
   "file_extension": ".py",
   "mimetype": "text/x-python",
   "name": "python",
   "nbconvert_exporter": "python",
   "pygments_lexer": "ipython3",
   "version": "3.11.13"
  }
 },
 "nbformat": 4,
 "nbformat_minor": 5
}
